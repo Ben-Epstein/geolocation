{
 "cells": [
  {
   "cell_type": "code",
   "execution_count": 1,
   "metadata": {
    "collapsed": true
   },
   "outputs": [],
   "source": [
    "import pandas as pd"
   ]
  },
  {
   "cell_type": "code",
   "execution_count": 3,
   "metadata": {
    "collapsed": false
   },
   "outputs": [],
   "source": [
    "data = pd.read_csv(\"lat_longs/lat_longs.txt\", sep=\" \", encoding=\"utf-8\")"
   ]
  },
  {
   "cell_type": "code",
   "execution_count": 6,
   "metadata": {
    "collapsed": false
   },
   "outputs": [
    {
     "data": {
      "text/html": [
       "<div>\n",
       "<table border=\"1\" class=\"dataframe\">\n",
       "  <thead>\n",
       "    <tr style=\"text-align: right;\">\n",
       "      <th></th>\n",
       "      <th>36.7</th>\n",
       "      <th>3.216666666666667</th>\n",
       "      <th>&lt;http://dbpedia.org/resource/Algeria&gt;</th>\n",
       "    </tr>\n",
       "  </thead>\n",
       "  <tbody>\n",
       "    <tr>\n",
       "      <th>0</th>\n",
       "      <td>42.500000</td>\n",
       "      <td>1.516667</td>\n",
       "      <td>&lt;http://dbpedia.org/resource/Andorra&gt;</td>\n",
       "    </tr>\n",
       "    <tr>\n",
       "      <th>1</th>\n",
       "      <td>12.516667</td>\n",
       "      <td>-70.033333</td>\n",
       "      <td>&lt;http://dbpedia.org/resource/Aruba&gt;</td>\n",
       "    </tr>\n",
       "    <tr>\n",
       "      <th>2</th>\n",
       "      <td>-8.833333</td>\n",
       "      <td>13.333333</td>\n",
       "      <td>&lt;http://dbpedia.org/resource/Angola&gt;</td>\n",
       "    </tr>\n",
       "    <tr>\n",
       "      <th>3</th>\n",
       "      <td>41.333333</td>\n",
       "      <td>19.800000</td>\n",
       "      <td>&lt;http://dbpedia.org/resource/Albania&gt;</td>\n",
       "    </tr>\n",
       "    <tr>\n",
       "      <th>4</th>\n",
       "      <td>34.533333</td>\n",
       "      <td>69.133333</td>\n",
       "      <td>&lt;http://dbpedia.org/resource/Afghanistan&gt;</td>\n",
       "    </tr>\n",
       "  </tbody>\n",
       "</table>\n",
       "</div>"
      ],
      "text/plain": [
       "        36.7  3.216666666666667      <http://dbpedia.org/resource/Algeria>\n",
       "0  42.500000           1.516667      <http://dbpedia.org/resource/Andorra>\n",
       "1  12.516667         -70.033333        <http://dbpedia.org/resource/Aruba>\n",
       "2  -8.833333          13.333333       <http://dbpedia.org/resource/Angola>\n",
       "3  41.333333          19.800000      <http://dbpedia.org/resource/Albania>\n",
       "4  34.533333          69.133333  <http://dbpedia.org/resource/Afghanistan>"
      ]
     },
     "execution_count": 6,
     "metadata": {},
     "output_type": "execute_result"
    }
   ],
   "source": [
    "data.head()"
   ]
  },
  {
   "cell_type": "code",
   "execution_count": 5,
   "metadata": {
    "collapsed": true
   },
   "outputs": [],
   "source": [
    "data.to_csv(\"lat_longs/lat_longs_formatted.txt\", encoding=\"utf-8\", index=False)"
   ]
  },
  {
   "cell_type": "code",
   "execution_count": 7,
   "metadata": {
    "collapsed": false
   },
   "outputs": [
    {
     "data": {
      "text/html": [
       "<div>\n",
       "<table border=\"1\" class=\"dataframe\">\n",
       "  <thead>\n",
       "    <tr style=\"text-align: right;\">\n",
       "      <th></th>\n",
       "      <th>36.7</th>\n",
       "      <th>3.216666666666667</th>\n",
       "      <th>&lt;http://dbpedia.org/resource/Algeria&gt;</th>\n",
       "    </tr>\n",
       "  </thead>\n",
       "  <tbody>\n",
       "    <tr>\n",
       "      <th>0</th>\n",
       "      <td>42.500000</td>\n",
       "      <td>1.516667</td>\n",
       "      <td>&lt;http://dbpedia.org/resource/Andorra&gt;</td>\n",
       "    </tr>\n",
       "    <tr>\n",
       "      <th>1</th>\n",
       "      <td>12.516667</td>\n",
       "      <td>-70.033333</td>\n",
       "      <td>&lt;http://dbpedia.org/resource/Aruba&gt;</td>\n",
       "    </tr>\n",
       "    <tr>\n",
       "      <th>2</th>\n",
       "      <td>-8.833333</td>\n",
       "      <td>13.333333</td>\n",
       "      <td>&lt;http://dbpedia.org/resource/Angola&gt;</td>\n",
       "    </tr>\n",
       "    <tr>\n",
       "      <th>3</th>\n",
       "      <td>41.333333</td>\n",
       "      <td>19.800000</td>\n",
       "      <td>&lt;http://dbpedia.org/resource/Albania&gt;</td>\n",
       "    </tr>\n",
       "    <tr>\n",
       "      <th>4</th>\n",
       "      <td>34.533333</td>\n",
       "      <td>69.133333</td>\n",
       "      <td>&lt;http://dbpedia.org/resource/Afghanistan&gt;</td>\n",
       "    </tr>\n",
       "  </tbody>\n",
       "</table>\n",
       "</div>"
      ],
      "text/plain": [
       "        36.7  3.216666666666667      <http://dbpedia.org/resource/Algeria>\n",
       "0  42.500000           1.516667      <http://dbpedia.org/resource/Andorra>\n",
       "1  12.516667         -70.033333        <http://dbpedia.org/resource/Aruba>\n",
       "2  -8.833333          13.333333       <http://dbpedia.org/resource/Angola>\n",
       "3  41.333333          19.800000      <http://dbpedia.org/resource/Albania>\n",
       "4  34.533333          69.133333  <http://dbpedia.org/resource/Afghanistan>"
      ]
     },
     "execution_count": 7,
     "metadata": {},
     "output_type": "execute_result"
    }
   ],
   "source": [
    "data.head()"
   ]
  },
  {
   "cell_type": "code",
   "execution_count": null,
   "metadata": {
    "collapsed": true
   },
   "outputs": [],
   "source": []
  }
 ],
 "metadata": {
  "anaconda-cloud": {},
  "kernelspec": {
   "display_name": "Python [conda root]",
   "language": "python",
   "name": "conda-root-py"
  },
  "language_info": {
   "codemirror_mode": {
    "name": "ipython",
    "version": 3
   },
   "file_extension": ".py",
   "mimetype": "text/x-python",
   "name": "python",
   "nbconvert_exporter": "python",
   "pygments_lexer": "ipython3",
   "version": "3.5.2"
  }
 },
 "nbformat": 4,
 "nbformat_minor": 1
}
